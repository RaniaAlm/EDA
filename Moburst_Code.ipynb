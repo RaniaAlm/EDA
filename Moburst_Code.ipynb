{
 "cells": [
  {
   "cell_type": "markdown",
   "id": "87ec8bc4",
   "metadata": {},
   "source": [
    "# MTA Exploratory Data Analysis"
   ]
  },
  {
   "cell_type": "markdown",
   "id": "0610623a",
   "metadata": {},
   "source": [
    "Prepared by : Rania Almneie"
   ]
  },
  {
   "cell_type": "markdown",
   "id": "0d0d992d",
   "metadata": {},
   "source": [
    "## Goal\n",
    "\n",
    "Exploratory data analysis on MTA data to  aid Moburst Advertising company:\n",
    "- Determine where the three animated billboards will be located.\n",
    "- Knowing how much the advertisement will cost over the course of the week, based on the number of visitors on each day."
   ]
  },
  {
   "cell_type": "markdown",
   "id": "35295227",
   "metadata": {},
   "source": [
    "## Data Description\n",
    "\n",
    "To fulfill the project goal, I analyzed the data of the MTA, namely the following features (C/A, UNIT, SCP, STATION, DATE, TIME, ENTRIES) . Additionally, I obtained MTA data via the MTA website.  I used data from July 03, 2021 to October 02, 2021, totaling 2934629 observations."
   ]
  },
  {
   "cell_type": "markdown",
   "id": "40874c75",
   "metadata": {},
   "source": [
    "## Moburst Project Consists of Four Main Steps:"
   ]
  },
  {
   "cell_type": "markdown",
   "id": "e897727f",
   "metadata": {},
   "source": [
    "### 1.Start with a question\n",
    "\n",
    "- Will the EDA assists Moburst Advertising in reaching its goal? \n"
   ]
  },
  {
   "cell_type": "markdown",
   "id": "558473cd",
   "metadata": {},
   "source": [
    "### 2.Collect and clean data\n",
    "\n",
    "* Collect the data:"
   ]
  },
  {
   "cell_type": "code",
   "execution_count": 181,
   "id": "c193bbf9",
   "metadata": {
    "scrolled": true
   },
   "outputs": [],
   "source": [
    "import pandas as pd\n",
    "import datetime\n",
    "\n",
    "dates=[210710,210717,210724,210731,210807,\n",
    "       210814,210821,210828,210904,210911,210918,210925,211002]\n",
    "\n",
    "df=pd.read_csv('http://web.mta.info/developers/data/nyct/turnstile/turnstile_210703.txt')\n",
    "for i in dates:\n",
    "    temp= pd.read_csv(f\"http://web.mta.info/developers/data/nyct/turnstile/turnstile_{i}.txt\")\n",
    "    df= pd.concat([df, temp])\n",
    "    \n",
    "#See first 5 rows\n",
    "df.head();"
   ]
  },
  {
   "cell_type": "markdown",
   "id": "a8b7dae3",
   "metadata": {},
   "source": [
    "* Ingesting the raw data into a SQL database :"
   ]
  },
  {
   "cell_type": "code",
   "execution_count": 182,
   "id": "6e5a4d8d",
   "metadata": {},
   "outputs": [],
   "source": [
    "from sqlalchemy import *\n",
    "engine=create_engine('sqlite:///MTA.db')\n",
    "df.to_sql('MTA_data',engine,if_exists='replace',index=False)"
   ]
  },
  {
   "cell_type": "code",
   "execution_count": 189,
   "id": "d1af1c27",
   "metadata": {},
   "outputs": [
    {
     "name": "stdout",
     "output_type": "stream",
     "text": [
      "['MTAdata']\n"
     ]
    },
    {
     "name": "stderr",
     "output_type": "stream",
     "text": [
      "<ipython-input-189-e7fdfb96e717>:2: SADeprecationWarning: The Engine.table_names() method is deprecated and will be removed in a future release.  Please refer to Inspector.get_table_names(). (deprecated since: 1.4)\n",
      "  tables=engine.table_names()\n"
     ]
    }
   ],
   "source": [
    "#To check if the MTA_data table existing\n",
    "tables=engine.table_names()\n",
    "print(all_tables);"
   ]
  },
  {
   "cell_type": "markdown",
   "id": "03df0372",
   "metadata": {},
   "source": [
    "* Querying from that database into Python via SQLAlchemy :"
   ]
  },
  {
   "cell_type": "code",
   "execution_count": 190,
   "id": "a655f9b5",
   "metadata": {},
   "outputs": [
    {
     "data": {
      "text/plain": [
       "(2934629, 11)"
      ]
     },
     "execution_count": 190,
     "metadata": {},
     "output_type": "execute_result"
    }
   ],
   "source": [
    "df=pd.read_sql('select * from MTA_data',engine)\n",
    "df.shape"
   ]
  },
  {
   "cell_type": "code",
   "execution_count": 191,
   "id": "17a086cd",
   "metadata": {},
   "outputs": [
    {
     "data": {
      "text/plain": [
       "pandas.core.frame.DataFrame"
      ]
     },
     "execution_count": 191,
     "metadata": {},
     "output_type": "execute_result"
    }
   ],
   "source": [
    "#To check the type of df\n",
    "type(df)"
   ]
  },
  {
   "cell_type": "markdown",
   "id": "678d676e",
   "metadata": {},
   "source": [
    "* Clean the data:\n",
    "      \n",
    "      -Method preprocess is to do some pre process steps :"
   ]
  },
  {
   "cell_type": "code",
   "execution_count": 192,
   "id": "738691c6",
   "metadata": {},
   "outputs": [
    {
     "data": {
      "text/html": [
       "<div>\n",
       "<style scoped>\n",
       "    .dataframe tbody tr th:only-of-type {\n",
       "        vertical-align: middle;\n",
       "    }\n",
       "\n",
       "    .dataframe tbody tr th {\n",
       "        vertical-align: top;\n",
       "    }\n",
       "\n",
       "    .dataframe thead th {\n",
       "        text-align: right;\n",
       "    }\n",
       "</style>\n",
       "<table border=\"1\" class=\"dataframe\">\n",
       "  <thead>\n",
       "    <tr style=\"text-align: right;\">\n",
       "      <th></th>\n",
       "      <th>C/A</th>\n",
       "      <th>UNIT</th>\n",
       "      <th>SCP</th>\n",
       "      <th>STATION</th>\n",
       "      <th>DATE</th>\n",
       "      <th>ENTRIES</th>\n",
       "      <th>date_time</th>\n",
       "    </tr>\n",
       "  </thead>\n",
       "  <tbody>\n",
       "    <tr>\n",
       "      <th>0</th>\n",
       "      <td>A002</td>\n",
       "      <td>R051</td>\n",
       "      <td>02-00-00</td>\n",
       "      <td>59 ST</td>\n",
       "      <td>06/26/2021</td>\n",
       "      <td>7592792</td>\n",
       "      <td>2021-06-26 00:00:00</td>\n",
       "    </tr>\n",
       "    <tr>\n",
       "      <th>1</th>\n",
       "      <td>A002</td>\n",
       "      <td>R051</td>\n",
       "      <td>02-00-00</td>\n",
       "      <td>59 ST</td>\n",
       "      <td>06/26/2021</td>\n",
       "      <td>7592804</td>\n",
       "      <td>2021-06-26 04:00:00</td>\n",
       "    </tr>\n",
       "    <tr>\n",
       "      <th>2</th>\n",
       "      <td>A002</td>\n",
       "      <td>R051</td>\n",
       "      <td>02-00-00</td>\n",
       "      <td>59 ST</td>\n",
       "      <td>06/26/2021</td>\n",
       "      <td>7592816</td>\n",
       "      <td>2021-06-26 08:00:00</td>\n",
       "    </tr>\n",
       "    <tr>\n",
       "      <th>3</th>\n",
       "      <td>A002</td>\n",
       "      <td>R051</td>\n",
       "      <td>02-00-00</td>\n",
       "      <td>59 ST</td>\n",
       "      <td>06/26/2021</td>\n",
       "      <td>7592870</td>\n",
       "      <td>2021-06-26 12:00:00</td>\n",
       "    </tr>\n",
       "    <tr>\n",
       "      <th>4</th>\n",
       "      <td>A002</td>\n",
       "      <td>R051</td>\n",
       "      <td>02-00-00</td>\n",
       "      <td>59 ST</td>\n",
       "      <td>06/26/2021</td>\n",
       "      <td>7592992</td>\n",
       "      <td>2021-06-26 16:00:00</td>\n",
       "    </tr>\n",
       "  </tbody>\n",
       "</table>\n",
       "</div>"
      ],
      "text/plain": [
       "    C/A  UNIT       SCP STATION        DATE  ENTRIES           date_time\n",
       "0  A002  R051  02-00-00   59 ST  06/26/2021  7592792 2021-06-26 00:00:00\n",
       "1  A002  R051  02-00-00   59 ST  06/26/2021  7592804 2021-06-26 04:00:00\n",
       "2  A002  R051  02-00-00   59 ST  06/26/2021  7592816 2021-06-26 08:00:00\n",
       "3  A002  R051  02-00-00   59 ST  06/26/2021  7592870 2021-06-26 12:00:00\n",
       "4  A002  R051  02-00-00   59 ST  06/26/2021  7592992 2021-06-26 16:00:00"
      ]
     },
     "execution_count": 192,
     "metadata": {},
     "output_type": "execute_result"
    }
   ],
   "source": [
    "def preprocess(df):\n",
    "    \n",
    "    #Standardize column name\n",
    "    df.columns = df.columns.str.strip()\n",
    "    \n",
    "    #Create date_time column from 'DATE' and 'TIME' cols\n",
    "    df['date_time'] = pd.to_datetime(df.DATE + ' ' + df.TIME,format=\"%m/%d/%Y %H:%M:%S\")\n",
    "    \n",
    "    #Drop unnecessary columns\n",
    "    df=df.drop(['EXITS','DESC','DIVISION','LINENAME','TIME'], axis=1,errors=\"ignore\")\n",
    "    \n",
    "    return df\n",
    "    \n",
    "\n",
    "df= preprocess(df)\n",
    "df.head()   "
   ]
  },
  {
   "cell_type": "markdown",
   "id": "a37d19a1",
   "metadata": {},
   "source": [
    "    -Sanity Check to verify that \"C/A\", \"UNIT\", \"SCP\", \"STATION\", \"DATE_TIME\" is unique :"
   ]
  },
  {
   "cell_type": "code",
   "execution_count": 193,
   "id": "358c5227",
   "metadata": {},
   "outputs": [
    {
     "data": {
      "text/html": [
       "<div>\n",
       "<style scoped>\n",
       "    .dataframe tbody tr th:only-of-type {\n",
       "        vertical-align: middle;\n",
       "    }\n",
       "\n",
       "    .dataframe tbody tr th {\n",
       "        vertical-align: top;\n",
       "    }\n",
       "\n",
       "    .dataframe thead th {\n",
       "        text-align: right;\n",
       "    }\n",
       "</style>\n",
       "<table border=\"1\" class=\"dataframe\">\n",
       "  <thead>\n",
       "    <tr style=\"text-align: right;\">\n",
       "      <th></th>\n",
       "      <th>C/A</th>\n",
       "      <th>UNIT</th>\n",
       "      <th>SCP</th>\n",
       "      <th>STATION</th>\n",
       "      <th>date_time</th>\n",
       "      <th>ENTRIES</th>\n",
       "    </tr>\n",
       "  </thead>\n",
       "  <tbody>\n",
       "    <tr>\n",
       "      <th>2911468</th>\n",
       "      <td>S101</td>\n",
       "      <td>R070</td>\n",
       "      <td>00-00-02</td>\n",
       "      <td>ST. GEORGE</td>\n",
       "      <td>2021-09-15 08:00:00</td>\n",
       "      <td>2</td>\n",
       "    </tr>\n",
       "    <tr>\n",
       "      <th>2911391</th>\n",
       "      <td>S101</td>\n",
       "      <td>R070</td>\n",
       "      <td>00-00-02</td>\n",
       "      <td>ST. GEORGE</td>\n",
       "      <td>2021-09-02 20:00:00</td>\n",
       "      <td>2</td>\n",
       "    </tr>\n",
       "    <tr>\n",
       "      <th>2911401</th>\n",
       "      <td>S101</td>\n",
       "      <td>R070</td>\n",
       "      <td>00-00-02</td>\n",
       "      <td>ST. GEORGE</td>\n",
       "      <td>2021-09-04 12:00:00</td>\n",
       "      <td>2</td>\n",
       "    </tr>\n",
       "    <tr>\n",
       "      <th>2911400</th>\n",
       "      <td>S101</td>\n",
       "      <td>R070</td>\n",
       "      <td>00-00-02</td>\n",
       "      <td>ST. GEORGE</td>\n",
       "      <td>2021-09-04 08:00:00</td>\n",
       "      <td>2</td>\n",
       "    </tr>\n",
       "    <tr>\n",
       "      <th>2911398</th>\n",
       "      <td>S101</td>\n",
       "      <td>R070</td>\n",
       "      <td>00-00-02</td>\n",
       "      <td>ST. GEORGE</td>\n",
       "      <td>2021-09-04 00:00:00</td>\n",
       "      <td>2</td>\n",
       "    </tr>\n",
       "  </tbody>\n",
       "</table>\n",
       "</div>"
      ],
      "text/plain": [
       "          C/A  UNIT       SCP     STATION           date_time  ENTRIES\n",
       "2911468  S101  R070  00-00-02  ST. GEORGE 2021-09-15 08:00:00        2\n",
       "2911391  S101  R070  00-00-02  ST. GEORGE 2021-09-02 20:00:00        2\n",
       "2911401  S101  R070  00-00-02  ST. GEORGE 2021-09-04 12:00:00        2\n",
       "2911400  S101  R070  00-00-02  ST. GEORGE 2021-09-04 08:00:00        2\n",
       "2911398  S101  R070  00-00-02  ST. GEORGE 2021-09-04 00:00:00        2"
      ]
     },
     "execution_count": 193,
     "metadata": {},
     "output_type": "execute_result"
    }
   ],
   "source": [
    "(df\n",
    ".groupby([\"C/A\", \"UNIT\", \"SCP\", \"STATION\", \"date_time\"])\n",
    ".ENTRIES.count()\n",
    ".reset_index()\n",
    ".sort_values(\"ENTRIES\", ascending=False)).head(5)"
   ]
  },
  {
   "cell_type": "markdown",
   "id": "ffc9facf",
   "metadata": {},
   "source": [
    "    So there are a duplicate entries !!"
   ]
  },
  {
   "cell_type": "markdown",
   "id": "4f570270",
   "metadata": {},
   "source": [
    "    -Get rid of the duplicate entry :"
   ]
  },
  {
   "cell_type": "code",
   "execution_count": 194,
   "id": "8eade105",
   "metadata": {},
   "outputs": [],
   "source": [
    "df.sort_values([\"C/A\", \"UNIT\", \"SCP\", \"STATION\", \"date_time\"], \n",
    "                         inplace=True, ascending=False)\n",
    "df.drop_duplicates(subset=[\"C/A\", \"UNIT\", \"SCP\", \"STATION\", \"date_time\"], inplace=True)"
   ]
  },
  {
   "cell_type": "markdown",
   "id": "6d4e7c49",
   "metadata": {},
   "source": [
    "    -Sanity Check again to verify that \"C/A\", \"UNIT\", \"SCP\", \"STATION\", \"DATE_TIME\" is unique :"
   ]
  },
  {
   "cell_type": "code",
   "execution_count": 195,
   "id": "84f31ce3",
   "metadata": {},
   "outputs": [
    {
     "data": {
      "text/html": [
       "<div>\n",
       "<style scoped>\n",
       "    .dataframe tbody tr th:only-of-type {\n",
       "        vertical-align: middle;\n",
       "    }\n",
       "\n",
       "    .dataframe tbody tr th {\n",
       "        vertical-align: top;\n",
       "    }\n",
       "\n",
       "    .dataframe thead th {\n",
       "        text-align: right;\n",
       "    }\n",
       "</style>\n",
       "<table border=\"1\" class=\"dataframe\">\n",
       "  <thead>\n",
       "    <tr style=\"text-align: right;\">\n",
       "      <th></th>\n",
       "      <th>C/A</th>\n",
       "      <th>UNIT</th>\n",
       "      <th>SCP</th>\n",
       "      <th>STATION</th>\n",
       "      <th>date_time</th>\n",
       "      <th>ENTRIES</th>\n",
       "    </tr>\n",
       "  </thead>\n",
       "  <tbody>\n",
       "    <tr>\n",
       "      <th>0</th>\n",
       "      <td>A002</td>\n",
       "      <td>R051</td>\n",
       "      <td>02-00-00</td>\n",
       "      <td>59 ST</td>\n",
       "      <td>2021-06-26 00:00:00</td>\n",
       "      <td>1</td>\n",
       "    </tr>\n",
       "    <tr>\n",
       "      <th>1956336</th>\n",
       "      <td>R139</td>\n",
       "      <td>R031</td>\n",
       "      <td>04-00-01</td>\n",
       "      <td>34 ST-PENN STA</td>\n",
       "      <td>2021-09-01 08:00:00</td>\n",
       "      <td>1</td>\n",
       "    </tr>\n",
       "    <tr>\n",
       "      <th>1956316</th>\n",
       "      <td>R139</td>\n",
       "      <td>R031</td>\n",
       "      <td>04-00-01</td>\n",
       "      <td>34 ST-PENN STA</td>\n",
       "      <td>2021-08-29 00:00:00</td>\n",
       "      <td>1</td>\n",
       "    </tr>\n",
       "    <tr>\n",
       "      <th>1956317</th>\n",
       "      <td>R139</td>\n",
       "      <td>R031</td>\n",
       "      <td>04-00-01</td>\n",
       "      <td>34 ST-PENN STA</td>\n",
       "      <td>2021-08-29 04:00:00</td>\n",
       "      <td>1</td>\n",
       "    </tr>\n",
       "    <tr>\n",
       "      <th>1956318</th>\n",
       "      <td>R139</td>\n",
       "      <td>R031</td>\n",
       "      <td>04-00-01</td>\n",
       "      <td>34 ST-PENN STA</td>\n",
       "      <td>2021-08-29 08:00:00</td>\n",
       "      <td>1</td>\n",
       "    </tr>\n",
       "  </tbody>\n",
       "</table>\n",
       "</div>"
      ],
      "text/plain": [
       "          C/A  UNIT       SCP         STATION           date_time  ENTRIES\n",
       "0        A002  R051  02-00-00           59 ST 2021-06-26 00:00:00        1\n",
       "1956336  R139  R031  04-00-01  34 ST-PENN STA 2021-09-01 08:00:00        1\n",
       "1956316  R139  R031  04-00-01  34 ST-PENN STA 2021-08-29 00:00:00        1\n",
       "1956317  R139  R031  04-00-01  34 ST-PENN STA 2021-08-29 04:00:00        1\n",
       "1956318  R139  R031  04-00-01  34 ST-PENN STA 2021-08-29 08:00:00        1"
      ]
     },
     "execution_count": 195,
     "metadata": {},
     "output_type": "execute_result"
    }
   ],
   "source": [
    "(df\n",
    ".groupby([\"C/A\", \"UNIT\", \"SCP\", \"STATION\", \"date_time\"])\n",
    ".ENTRIES.count()\n",
    ".reset_index()\n",
    ".sort_values(\"ENTRIES\", ascending=False)).head(5)"
   ]
  },
  {
   "cell_type": "markdown",
   "id": "b4bdf181",
   "metadata": {},
   "source": [
    "## 3.Exploratory data analysis (EDA)"
   ]
  },
  {
   "cell_type": "code",
   "execution_count": 198,
   "id": "5bb7fd4f",
   "metadata": {},
   "outputs": [
    {
     "data": {
      "text/plain": [
       "(2934482, 7)"
      ]
     },
     "execution_count": 198,
     "metadata": {},
     "output_type": "execute_result"
    }
   ],
   "source": [
    "#To see the shape of df\n",
    "df.shape"
   ]
  },
  {
   "cell_type": "code",
   "execution_count": 199,
   "id": "f09d03c9",
   "metadata": {},
   "outputs": [
    {
     "name": "stdout",
     "output_type": "stream",
     "text": [
      "<class 'pandas.core.frame.DataFrame'>\n",
      "Int64Index: 2934482 entries, 2934628 to 0\n",
      "Data columns (total 7 columns):\n",
      " #   Column     Dtype         \n",
      "---  ------     -----         \n",
      " 0   C/A        object        \n",
      " 1   UNIT       object        \n",
      " 2   SCP        object        \n",
      " 3   STATION    object        \n",
      " 4   DATE       object        \n",
      " 5   ENTRIES    int64         \n",
      " 6   date_time  datetime64[ns]\n",
      "dtypes: datetime64[ns](1), int64(1), object(5)\n",
      "memory usage: 179.1+ MB\n"
     ]
    }
   ],
   "source": [
    "#To check missings with .info()\n",
    "df.info()"
   ]
  },
  {
   "cell_type": "code",
   "execution_count": 200,
   "id": "2aee96b1",
   "metadata": {},
   "outputs": [
    {
     "data": {
      "text/plain": [
       "C/A          0\n",
       "UNIT         0\n",
       "SCP          0\n",
       "STATION      0\n",
       "DATE         0\n",
       "ENTRIES      0\n",
       "date_time    0\n",
       "dtype: int64"
      ]
     },
     "execution_count": 200,
     "metadata": {},
     "output_type": "execute_result"
    }
   ],
   "source": [
    "#check missings with .isna() then apply sum()\n",
    "df.isna().sum()\n",
    "\n",
    "\n",
    "#If we have a Missing Values we will handle it using one of 3 Methods\n",
    "\n",
    "#1-Drop rows with missing values\n",
    "#df.dropna()\n",
    "#2-Fill missing values with a standard value such as zero\n",
    "#df.ENTRIES.fillna(0)\n",
    "#3-Impute missings with mean or median\n",
    "#df.ENTRIES.fillna(df.ENTRIES.mean())"
   ]
  },
  {
   "cell_type": "code",
   "execution_count": 206,
   "id": "44d77b93",
   "metadata": {},
   "outputs": [
    {
     "data": {
      "text/html": [
       "<div>\n",
       "<style scoped>\n",
       "    .dataframe tbody tr th:only-of-type {\n",
       "        vertical-align: middle;\n",
       "    }\n",
       "\n",
       "    .dataframe tbody tr th {\n",
       "        vertical-align: top;\n",
       "    }\n",
       "\n",
       "    .dataframe thead th {\n",
       "        text-align: right;\n",
       "    }\n",
       "</style>\n",
       "<table border=\"1\" class=\"dataframe\">\n",
       "  <thead>\n",
       "    <tr style=\"text-align: right;\">\n",
       "      <th></th>\n",
       "      <th>ENTRIES</th>\n",
       "    </tr>\n",
       "  </thead>\n",
       "  <tbody>\n",
       "    <tr>\n",
       "      <th>count</th>\n",
       "      <td>2.934482e+06</td>\n",
       "    </tr>\n",
       "    <tr>\n",
       "      <th>mean</th>\n",
       "      <td>4.147925e+07</td>\n",
       "    </tr>\n",
       "    <tr>\n",
       "      <th>std</th>\n",
       "      <td>2.181698e+08</td>\n",
       "    </tr>\n",
       "    <tr>\n",
       "      <th>min</th>\n",
       "      <td>0.000000e+00</td>\n",
       "    </tr>\n",
       "    <tr>\n",
       "      <th>25%</th>\n",
       "      <td>2.201922e+05</td>\n",
       "    </tr>\n",
       "    <tr>\n",
       "      <th>50%</th>\n",
       "      <td>1.395819e+06</td>\n",
       "    </tr>\n",
       "    <tr>\n",
       "      <th>75%</th>\n",
       "      <td>5.997482e+06</td>\n",
       "    </tr>\n",
       "    <tr>\n",
       "      <th>max</th>\n",
       "      <td>2.147407e+09</td>\n",
       "    </tr>\n",
       "  </tbody>\n",
       "</table>\n",
       "</div>"
      ],
      "text/plain": [
       "            ENTRIES\n",
       "count  2.934482e+06\n",
       "mean   4.147925e+07\n",
       "std    2.181698e+08\n",
       "min    0.000000e+00\n",
       "25%    2.201922e+05\n",
       "50%    1.395819e+06\n",
       "75%    5.997482e+06\n",
       "max    2.147407e+09"
      ]
     },
     "execution_count": 206,
     "metadata": {},
     "output_type": "execute_result"
    }
   ],
   "source": [
    "df.describe()"
   ]
  },
  {
   "cell_type": "code",
   "execution_count": null,
   "id": "912f9df4",
   "metadata": {},
   "outputs": [],
   "source": [
    "#To see the uniqe  values in STATION column\n",
    "df.STATION.unique()"
   ]
  },
  {
   "cell_type": "code",
   "execution_count": 208,
   "id": "e91da9bf",
   "metadata": {},
   "outputs": [
    {
     "data": {
      "text/html": [
       "<div>\n",
       "<style scoped>\n",
       "    .dataframe tbody tr th:only-of-type {\n",
       "        vertical-align: middle;\n",
       "    }\n",
       "\n",
       "    .dataframe tbody tr th {\n",
       "        vertical-align: top;\n",
       "    }\n",
       "\n",
       "    .dataframe thead th {\n",
       "        text-align: right;\n",
       "    }\n",
       "</style>\n",
       "<table border=\"1\" class=\"dataframe\">\n",
       "  <thead>\n",
       "    <tr style=\"text-align: right;\">\n",
       "      <th></th>\n",
       "      <th>C/A</th>\n",
       "      <th>UNIT</th>\n",
       "      <th>SCP</th>\n",
       "      <th>STATION</th>\n",
       "      <th>DATE</th>\n",
       "      <th>ENTRIES</th>\n",
       "      <th>date_time</th>\n",
       "    </tr>\n",
       "  </thead>\n",
       "  <tbody>\n",
       "    <tr>\n",
       "      <th>2934628</th>\n",
       "      <td>TRAM2</td>\n",
       "      <td>R469</td>\n",
       "      <td>00-05-01</td>\n",
       "      <td>RIT-ROOSEVELT</td>\n",
       "      <td>10/01/2021</td>\n",
       "      <td>5554</td>\n",
       "      <td>2021-10-01 21:00:00</td>\n",
       "    </tr>\n",
       "    <tr>\n",
       "      <th>2934627</th>\n",
       "      <td>TRAM2</td>\n",
       "      <td>R469</td>\n",
       "      <td>00-05-01</td>\n",
       "      <td>RIT-ROOSEVELT</td>\n",
       "      <td>10/01/2021</td>\n",
       "      <td>5554</td>\n",
       "      <td>2021-10-01 17:00:00</td>\n",
       "    </tr>\n",
       "    <tr>\n",
       "      <th>2934626</th>\n",
       "      <td>TRAM2</td>\n",
       "      <td>R469</td>\n",
       "      <td>00-05-01</td>\n",
       "      <td>RIT-ROOSEVELT</td>\n",
       "      <td>10/01/2021</td>\n",
       "      <td>5554</td>\n",
       "      <td>2021-10-01 13:00:00</td>\n",
       "    </tr>\n",
       "    <tr>\n",
       "      <th>2934625</th>\n",
       "      <td>TRAM2</td>\n",
       "      <td>R469</td>\n",
       "      <td>00-05-01</td>\n",
       "      <td>RIT-ROOSEVELT</td>\n",
       "      <td>10/01/2021</td>\n",
       "      <td>5554</td>\n",
       "      <td>2021-10-01 09:00:00</td>\n",
       "    </tr>\n",
       "    <tr>\n",
       "      <th>2934624</th>\n",
       "      <td>TRAM2</td>\n",
       "      <td>R469</td>\n",
       "      <td>00-05-01</td>\n",
       "      <td>RIT-ROOSEVELT</td>\n",
       "      <td>10/01/2021</td>\n",
       "      <td>5554</td>\n",
       "      <td>2021-10-01 05:00:00</td>\n",
       "    </tr>\n",
       "  </tbody>\n",
       "</table>\n",
       "</div>"
      ],
      "text/plain": [
       "           C/A  UNIT       SCP        STATION        DATE  ENTRIES  \\\n",
       "2934628  TRAM2  R469  00-05-01  RIT-ROOSEVELT  10/01/2021     5554   \n",
       "2934627  TRAM2  R469  00-05-01  RIT-ROOSEVELT  10/01/2021     5554   \n",
       "2934626  TRAM2  R469  00-05-01  RIT-ROOSEVELT  10/01/2021     5554   \n",
       "2934625  TRAM2  R469  00-05-01  RIT-ROOSEVELT  10/01/2021     5554   \n",
       "2934624  TRAM2  R469  00-05-01  RIT-ROOSEVELT  10/01/2021     5554   \n",
       "\n",
       "                  date_time  \n",
       "2934628 2021-10-01 21:00:00  \n",
       "2934627 2021-10-01 17:00:00  \n",
       "2934626 2021-10-01 13:00:00  \n",
       "2934625 2021-10-01 09:00:00  \n",
       "2934624 2021-10-01 05:00:00  "
      ]
     },
     "execution_count": 208,
     "metadata": {},
     "output_type": "execute_result"
    }
   ],
   "source": [
    "#To display the first 5 rows :\n",
    "df.head()"
   ]
  },
  {
   "cell_type": "code",
   "execution_count": 209,
   "id": "a7d79154",
   "metadata": {},
   "outputs": [
    {
     "data": {
      "text/html": [
       "<div>\n",
       "<style scoped>\n",
       "    .dataframe tbody tr th:only-of-type {\n",
       "        vertical-align: middle;\n",
       "    }\n",
       "\n",
       "    .dataframe tbody tr th {\n",
       "        vertical-align: top;\n",
       "    }\n",
       "\n",
       "    .dataframe thead th {\n",
       "        text-align: right;\n",
       "    }\n",
       "</style>\n",
       "<table border=\"1\" class=\"dataframe\">\n",
       "  <thead>\n",
       "    <tr style=\"text-align: right;\">\n",
       "      <th></th>\n",
       "      <th>C/A</th>\n",
       "      <th>UNIT</th>\n",
       "      <th>SCP</th>\n",
       "      <th>STATION</th>\n",
       "      <th>DATE</th>\n",
       "      <th>ENTRIES</th>\n",
       "      <th>date_time</th>\n",
       "    </tr>\n",
       "  </thead>\n",
       "  <tbody>\n",
       "    <tr>\n",
       "      <th>1089643</th>\n",
       "      <td>J021</td>\n",
       "      <td>R434</td>\n",
       "      <td>00-00-00</td>\n",
       "      <td>VAN SICLEN AV</td>\n",
       "      <td>08/03/2021</td>\n",
       "      <td>102675</td>\n",
       "      <td>2021-08-03 21:00:00</td>\n",
       "    </tr>\n",
       "    <tr>\n",
       "      <th>2717135</th>\n",
       "      <td>R623</td>\n",
       "      <td>R061</td>\n",
       "      <td>00-00-01</td>\n",
       "      <td>NOSTRAND AV</td>\n",
       "      <td>09/22/2021</td>\n",
       "      <td>458096</td>\n",
       "      <td>2021-09-22 08:00:00</td>\n",
       "    </tr>\n",
       "    <tr>\n",
       "      <th>1789467</th>\n",
       "      <td>N604</td>\n",
       "      <td>R342</td>\n",
       "      <td>00-03-00</td>\n",
       "      <td>JAMAICA VAN WK</td>\n",
       "      <td>08/25/2021</td>\n",
       "      <td>1398900</td>\n",
       "      <td>2021-08-25 13:00:00</td>\n",
       "    </tr>\n",
       "    <tr>\n",
       "      <th>998752</th>\n",
       "      <td>R236</td>\n",
       "      <td>R045</td>\n",
       "      <td>00-00-04</td>\n",
       "      <td>GRD CNTRL-42 ST</td>\n",
       "      <td>07/25/2021</td>\n",
       "      <td>12523761</td>\n",
       "      <td>2021-07-25 05:00:00</td>\n",
       "    </tr>\n",
       "    <tr>\n",
       "      <th>1309104</th>\n",
       "      <td>N049</td>\n",
       "      <td>R084</td>\n",
       "      <td>01-03-00</td>\n",
       "      <td>59 ST COLUMBUS</td>\n",
       "      <td>08/09/2021</td>\n",
       "      <td>10755097</td>\n",
       "      <td>2021-08-09 00:00:00</td>\n",
       "    </tr>\n",
       "  </tbody>\n",
       "</table>\n",
       "</div>"
      ],
      "text/plain": [
       "          C/A  UNIT       SCP          STATION        DATE   ENTRIES  \\\n",
       "1089643  J021  R434  00-00-00    VAN SICLEN AV  08/03/2021    102675   \n",
       "2717135  R623  R061  00-00-01      NOSTRAND AV  09/22/2021    458096   \n",
       "1789467  N604  R342  00-03-00   JAMAICA VAN WK  08/25/2021   1398900   \n",
       "998752   R236  R045  00-00-04  GRD CNTRL-42 ST  07/25/2021  12523761   \n",
       "1309104  N049  R084  01-03-00   59 ST COLUMBUS  08/09/2021  10755097   \n",
       "\n",
       "                  date_time  \n",
       "1089643 2021-08-03 21:00:00  \n",
       "2717135 2021-09-22 08:00:00  \n",
       "1789467 2021-08-25 13:00:00  \n",
       "998752  2021-07-25 05:00:00  \n",
       "1309104 2021-08-09 00:00:00  "
      ]
     },
     "execution_count": 209,
     "metadata": {},
     "output_type": "execute_result"
    }
   ],
   "source": [
    "#To take a sample from df\n",
    "df.sample(5)"
   ]
  },
  {
   "cell_type": "markdown",
   "id": "2a9c9359",
   "metadata": {},
   "source": [
    "    -To sort the values based on C/A, UNIT, SCP, STATION, date_time :"
   ]
  },
  {
   "cell_type": "code",
   "execution_count": 210,
   "id": "2898353a",
   "metadata": {},
   "outputs": [],
   "source": [
    "df=df.sort_values([\"C/A\", \"UNIT\", \"SCP\", \"STATION\", \"date_time\"])"
   ]
  },
  {
   "cell_type": "markdown",
   "id": "02a8aa85",
   "metadata": {},
   "source": [
    "    -To display the first 5 rows after the sorting :"
   ]
  },
  {
   "cell_type": "code",
   "execution_count": 211,
   "id": "727400ed",
   "metadata": {},
   "outputs": [
    {
     "data": {
      "text/html": [
       "<div>\n",
       "<style scoped>\n",
       "    .dataframe tbody tr th:only-of-type {\n",
       "        vertical-align: middle;\n",
       "    }\n",
       "\n",
       "    .dataframe tbody tr th {\n",
       "        vertical-align: top;\n",
       "    }\n",
       "\n",
       "    .dataframe thead th {\n",
       "        text-align: right;\n",
       "    }\n",
       "</style>\n",
       "<table border=\"1\" class=\"dataframe\">\n",
       "  <thead>\n",
       "    <tr style=\"text-align: right;\">\n",
       "      <th></th>\n",
       "      <th>C/A</th>\n",
       "      <th>UNIT</th>\n",
       "      <th>SCP</th>\n",
       "      <th>STATION</th>\n",
       "      <th>DATE</th>\n",
       "      <th>ENTRIES</th>\n",
       "      <th>date_time</th>\n",
       "    </tr>\n",
       "  </thead>\n",
       "  <tbody>\n",
       "    <tr>\n",
       "      <th>0</th>\n",
       "      <td>A002</td>\n",
       "      <td>R051</td>\n",
       "      <td>02-00-00</td>\n",
       "      <td>59 ST</td>\n",
       "      <td>06/26/2021</td>\n",
       "      <td>7592792</td>\n",
       "      <td>2021-06-26 00:00:00</td>\n",
       "    </tr>\n",
       "    <tr>\n",
       "      <th>1</th>\n",
       "      <td>A002</td>\n",
       "      <td>R051</td>\n",
       "      <td>02-00-00</td>\n",
       "      <td>59 ST</td>\n",
       "      <td>06/26/2021</td>\n",
       "      <td>7592804</td>\n",
       "      <td>2021-06-26 04:00:00</td>\n",
       "    </tr>\n",
       "    <tr>\n",
       "      <th>2</th>\n",
       "      <td>A002</td>\n",
       "      <td>R051</td>\n",
       "      <td>02-00-00</td>\n",
       "      <td>59 ST</td>\n",
       "      <td>06/26/2021</td>\n",
       "      <td>7592816</td>\n",
       "      <td>2021-06-26 08:00:00</td>\n",
       "    </tr>\n",
       "    <tr>\n",
       "      <th>3</th>\n",
       "      <td>A002</td>\n",
       "      <td>R051</td>\n",
       "      <td>02-00-00</td>\n",
       "      <td>59 ST</td>\n",
       "      <td>06/26/2021</td>\n",
       "      <td>7592870</td>\n",
       "      <td>2021-06-26 12:00:00</td>\n",
       "    </tr>\n",
       "    <tr>\n",
       "      <th>4</th>\n",
       "      <td>A002</td>\n",
       "      <td>R051</td>\n",
       "      <td>02-00-00</td>\n",
       "      <td>59 ST</td>\n",
       "      <td>06/26/2021</td>\n",
       "      <td>7592992</td>\n",
       "      <td>2021-06-26 16:00:00</td>\n",
       "    </tr>\n",
       "  </tbody>\n",
       "</table>\n",
       "</div>"
      ],
      "text/plain": [
       "    C/A  UNIT       SCP STATION        DATE  ENTRIES           date_time\n",
       "0  A002  R051  02-00-00   59 ST  06/26/2021  7592792 2021-06-26 00:00:00\n",
       "1  A002  R051  02-00-00   59 ST  06/26/2021  7592804 2021-06-26 04:00:00\n",
       "2  A002  R051  02-00-00   59 ST  06/26/2021  7592816 2021-06-26 08:00:00\n",
       "3  A002  R051  02-00-00   59 ST  06/26/2021  7592870 2021-06-26 12:00:00\n",
       "4  A002  R051  02-00-00   59 ST  06/26/2021  7592992 2021-06-26 16:00:00"
      ]
     },
     "execution_count": 211,
     "metadata": {},
     "output_type": "execute_result"
    }
   ],
   "source": [
    "df.head()"
   ]
  },
  {
   "cell_type": "markdown",
   "id": "8dbdee98",
   "metadata": {},
   "source": [
    "    -To add two columns to the data frame df which are PREV_DATE_TIME and PREV_ENTRIES :"
   ]
  },
  {
   "cell_type": "code",
   "execution_count": 212,
   "id": "93eaaf8f",
   "metadata": {},
   "outputs": [
    {
     "name": "stderr",
     "output_type": "stream",
     "text": [
      "<ipython-input-212-82f40281e546>:1: FutureWarning: Indexing with multiple keys (implicitly converted to a tuple of keys) will be deprecated, use a list instead.\n",
      "  df[[\"PREV_DATE_TIME\", \"PREV_ENTRIES\"]] = (df.groupby([\"C/A\", \"UNIT\", \"SCP\", \"STATION\"])[\"date_time\", \"ENTRIES\"]\n"
     ]
    }
   ],
   "source": [
    "df[[\"PREV_DATE_TIME\", \"PREV_ENTRIES\"]] = (df.groupby([\"C/A\", \"UNIT\", \"SCP\", \"STATION\"])[\"date_time\", \"ENTRIES\"]\n",
    "                                                       .apply(lambda grp: grp.shift(1)))\n"
   ]
  },
  {
   "cell_type": "markdown",
   "id": "d3ac3301",
   "metadata": {},
   "source": [
    "    -To display the first 5 rows after adding columns:"
   ]
  },
  {
   "cell_type": "code",
   "execution_count": 213,
   "id": "7865dd72",
   "metadata": {},
   "outputs": [
    {
     "data": {
      "text/html": [
       "<div>\n",
       "<style scoped>\n",
       "    .dataframe tbody tr th:only-of-type {\n",
       "        vertical-align: middle;\n",
       "    }\n",
       "\n",
       "    .dataframe tbody tr th {\n",
       "        vertical-align: top;\n",
       "    }\n",
       "\n",
       "    .dataframe thead th {\n",
       "        text-align: right;\n",
       "    }\n",
       "</style>\n",
       "<table border=\"1\" class=\"dataframe\">\n",
       "  <thead>\n",
       "    <tr style=\"text-align: right;\">\n",
       "      <th></th>\n",
       "      <th>C/A</th>\n",
       "      <th>UNIT</th>\n",
       "      <th>SCP</th>\n",
       "      <th>STATION</th>\n",
       "      <th>DATE</th>\n",
       "      <th>ENTRIES</th>\n",
       "      <th>date_time</th>\n",
       "      <th>PREV_DATE_TIME</th>\n",
       "      <th>PREV_ENTRIES</th>\n",
       "    </tr>\n",
       "  </thead>\n",
       "  <tbody>\n",
       "    <tr>\n",
       "      <th>0</th>\n",
       "      <td>A002</td>\n",
       "      <td>R051</td>\n",
       "      <td>02-00-00</td>\n",
       "      <td>59 ST</td>\n",
       "      <td>06/26/2021</td>\n",
       "      <td>7592792</td>\n",
       "      <td>2021-06-26 00:00:00</td>\n",
       "      <td>NaT</td>\n",
       "      <td>NaN</td>\n",
       "    </tr>\n",
       "    <tr>\n",
       "      <th>1</th>\n",
       "      <td>A002</td>\n",
       "      <td>R051</td>\n",
       "      <td>02-00-00</td>\n",
       "      <td>59 ST</td>\n",
       "      <td>06/26/2021</td>\n",
       "      <td>7592804</td>\n",
       "      <td>2021-06-26 04:00:00</td>\n",
       "      <td>2021-06-26 00:00:00</td>\n",
       "      <td>7592792.0</td>\n",
       "    </tr>\n",
       "    <tr>\n",
       "      <th>2</th>\n",
       "      <td>A002</td>\n",
       "      <td>R051</td>\n",
       "      <td>02-00-00</td>\n",
       "      <td>59 ST</td>\n",
       "      <td>06/26/2021</td>\n",
       "      <td>7592816</td>\n",
       "      <td>2021-06-26 08:00:00</td>\n",
       "      <td>2021-06-26 04:00:00</td>\n",
       "      <td>7592804.0</td>\n",
       "    </tr>\n",
       "    <tr>\n",
       "      <th>3</th>\n",
       "      <td>A002</td>\n",
       "      <td>R051</td>\n",
       "      <td>02-00-00</td>\n",
       "      <td>59 ST</td>\n",
       "      <td>06/26/2021</td>\n",
       "      <td>7592870</td>\n",
       "      <td>2021-06-26 12:00:00</td>\n",
       "      <td>2021-06-26 08:00:00</td>\n",
       "      <td>7592816.0</td>\n",
       "    </tr>\n",
       "    <tr>\n",
       "      <th>4</th>\n",
       "      <td>A002</td>\n",
       "      <td>R051</td>\n",
       "      <td>02-00-00</td>\n",
       "      <td>59 ST</td>\n",
       "      <td>06/26/2021</td>\n",
       "      <td>7592992</td>\n",
       "      <td>2021-06-26 16:00:00</td>\n",
       "      <td>2021-06-26 12:00:00</td>\n",
       "      <td>7592870.0</td>\n",
       "    </tr>\n",
       "  </tbody>\n",
       "</table>\n",
       "</div>"
      ],
      "text/plain": [
       "    C/A  UNIT       SCP STATION        DATE  ENTRIES           date_time  \\\n",
       "0  A002  R051  02-00-00   59 ST  06/26/2021  7592792 2021-06-26 00:00:00   \n",
       "1  A002  R051  02-00-00   59 ST  06/26/2021  7592804 2021-06-26 04:00:00   \n",
       "2  A002  R051  02-00-00   59 ST  06/26/2021  7592816 2021-06-26 08:00:00   \n",
       "3  A002  R051  02-00-00   59 ST  06/26/2021  7592870 2021-06-26 12:00:00   \n",
       "4  A002  R051  02-00-00   59 ST  06/26/2021  7592992 2021-06-26 16:00:00   \n",
       "\n",
       "       PREV_DATE_TIME  PREV_ENTRIES  \n",
       "0                 NaT           NaN  \n",
       "1 2021-06-26 00:00:00     7592792.0  \n",
       "2 2021-06-26 04:00:00     7592804.0  \n",
       "3 2021-06-26 08:00:00     7592816.0  \n",
       "4 2021-06-26 12:00:00     7592870.0  "
      ]
     },
     "execution_count": 213,
     "metadata": {},
     "output_type": "execute_result"
    }
   ],
   "source": [
    "df.head()"
   ]
  },
  {
   "cell_type": "markdown",
   "id": "79db428f",
   "metadata": {},
   "source": [
    "    -To check the shape of the data frame :"
   ]
  },
  {
   "cell_type": "code",
   "execution_count": 214,
   "id": "64477c80",
   "metadata": {},
   "outputs": [
    {
     "data": {
      "text/plain": [
       "(2934482, 9)"
      ]
     },
     "execution_count": 214,
     "metadata": {},
     "output_type": "execute_result"
    }
   ],
   "source": [
    "df.shape"
   ]
  },
  {
   "cell_type": "markdown",
   "id": "4e7f52d6",
   "metadata": {},
   "source": [
    "    -Drop the rows for the earliest date in the df :"
   ]
  },
  {
   "cell_type": "code",
   "execution_count": 215,
   "id": "43d44221",
   "metadata": {},
   "outputs": [
    {
     "data": {
      "text/plain": [
       "(2929450, 9)"
      ]
     },
     "execution_count": 215,
     "metadata": {},
     "output_type": "execute_result"
    }
   ],
   "source": [
    "df.dropna(subset=[\"PREV_DATE_TIME\"], axis=0, inplace=True)\n",
    "df.shape"
   ]
  },
  {
   "cell_type": "markdown",
   "id": "0e63bc4d",
   "metadata": {},
   "source": [
    "    -To see how many stations have counter working in reverse problem :"
   ]
  },
  {
   "cell_type": "code",
   "execution_count": 216,
   "id": "9ef8b263",
   "metadata": {},
   "outputs": [
    {
     "data": {
      "text/plain": [
       "C/A   UNIT  SCP       STATION        \n",
       "A011  R080  01-03-00  57 ST-7 AV         586\n",
       "A013  R081  01-06-01  49 ST                1\n",
       "A014  R081  02-00-00  49 ST                1\n",
       "A049  R088  02-05-00  CORTLANDT ST        27\n",
       "A066  R118  00-00-00  CANAL ST           586\n",
       "                                        ... \n",
       "R622  R123  00-00-00  FRANKLIN AV        595\n",
       "R633  R068  00-00-01  VAN SICLEN AV        1\n",
       "R646  R110  01-00-02  FLATBUSH AV-B.C      1\n",
       "R730  R431  00-00-04  EASTCHSTER/DYRE    524\n",
       "S101  R070  00-00-02  ST. GEORGE           7\n",
       "Length: 241, dtype: int64"
      ]
     },
     "execution_count": 216,
     "metadata": {},
     "output_type": "execute_result"
    }
   ],
   "source": [
    "(df[df[\"ENTRIES\"] < df[\"PREV_ENTRIES\"]]\n",
    "    .groupby([\"C/A\", \"UNIT\", \"SCP\", \"STATION\"])\n",
    "    .size())"
   ]
  },
  {
   "cell_type": "markdown",
   "id": "3d8bd511",
   "metadata": {},
   "source": [
    "    -Method get_daily_counts is to get a daily count and make a new column name it DAILY_ENTRIES :"
   ]
  },
  {
   "cell_type": "code",
   "execution_count": 217,
   "id": "214f3fdf",
   "metadata": {},
   "outputs": [],
   "source": [
    "def get_daily_counts(row, max_counter):\n",
    "    counter = row[\"ENTRIES\"] - row[\"PREV_ENTRIES\"]\n",
    "    if counter < 0:\n",
    "        counter = -counter\n",
    "    if counter > max_counter:\n",
    "        counter = min(row[\"ENTRIES\"], row[\"PREV_ENTRIES\"])\n",
    "    if counter > max_counter:\n",
    "        # Check it again to make sure we're not still giving a counter that's too big\n",
    "        return 0\n",
    "    return counter\n",
    "\n",
    "df[\"DAILY_ENTRIES\"] = df.apply(get_daily_counts, axis=1, max_counter=100000)"
   ]
  },
  {
   "cell_type": "markdown",
   "id": "7418e917",
   "metadata": {},
   "source": [
    "    -To see the DAILY_ENTRIES column :"
   ]
  },
  {
   "cell_type": "code",
   "execution_count": 218,
   "id": "58fdb43c",
   "metadata": {},
   "outputs": [
    {
     "data": {
      "text/html": [
       "<div>\n",
       "<style scoped>\n",
       "    .dataframe tbody tr th:only-of-type {\n",
       "        vertical-align: middle;\n",
       "    }\n",
       "\n",
       "    .dataframe tbody tr th {\n",
       "        vertical-align: top;\n",
       "    }\n",
       "\n",
       "    .dataframe thead th {\n",
       "        text-align: right;\n",
       "    }\n",
       "</style>\n",
       "<table border=\"1\" class=\"dataframe\">\n",
       "  <thead>\n",
       "    <tr style=\"text-align: right;\">\n",
       "      <th></th>\n",
       "      <th>C/A</th>\n",
       "      <th>UNIT</th>\n",
       "      <th>SCP</th>\n",
       "      <th>STATION</th>\n",
       "      <th>DATE</th>\n",
       "      <th>ENTRIES</th>\n",
       "      <th>date_time</th>\n",
       "      <th>PREV_DATE_TIME</th>\n",
       "      <th>PREV_ENTRIES</th>\n",
       "      <th>DAILY_ENTRIES</th>\n",
       "    </tr>\n",
       "  </thead>\n",
       "  <tbody>\n",
       "    <tr>\n",
       "      <th>1</th>\n",
       "      <td>A002</td>\n",
       "      <td>R051</td>\n",
       "      <td>02-00-00</td>\n",
       "      <td>59 ST</td>\n",
       "      <td>06/26/2021</td>\n",
       "      <td>7592804</td>\n",
       "      <td>2021-06-26 04:00:00</td>\n",
       "      <td>2021-06-26 00:00:00</td>\n",
       "      <td>7592792.0</td>\n",
       "      <td>12.0</td>\n",
       "    </tr>\n",
       "    <tr>\n",
       "      <th>2</th>\n",
       "      <td>A002</td>\n",
       "      <td>R051</td>\n",
       "      <td>02-00-00</td>\n",
       "      <td>59 ST</td>\n",
       "      <td>06/26/2021</td>\n",
       "      <td>7592816</td>\n",
       "      <td>2021-06-26 08:00:00</td>\n",
       "      <td>2021-06-26 04:00:00</td>\n",
       "      <td>7592804.0</td>\n",
       "      <td>12.0</td>\n",
       "    </tr>\n",
       "    <tr>\n",
       "      <th>3</th>\n",
       "      <td>A002</td>\n",
       "      <td>R051</td>\n",
       "      <td>02-00-00</td>\n",
       "      <td>59 ST</td>\n",
       "      <td>06/26/2021</td>\n",
       "      <td>7592870</td>\n",
       "      <td>2021-06-26 12:00:00</td>\n",
       "      <td>2021-06-26 08:00:00</td>\n",
       "      <td>7592816.0</td>\n",
       "      <td>54.0</td>\n",
       "    </tr>\n",
       "    <tr>\n",
       "      <th>4</th>\n",
       "      <td>A002</td>\n",
       "      <td>R051</td>\n",
       "      <td>02-00-00</td>\n",
       "      <td>59 ST</td>\n",
       "      <td>06/26/2021</td>\n",
       "      <td>7592992</td>\n",
       "      <td>2021-06-26 16:00:00</td>\n",
       "      <td>2021-06-26 12:00:00</td>\n",
       "      <td>7592870.0</td>\n",
       "      <td>122.0</td>\n",
       "    </tr>\n",
       "    <tr>\n",
       "      <th>5</th>\n",
       "      <td>A002</td>\n",
       "      <td>R051</td>\n",
       "      <td>02-00-00</td>\n",
       "      <td>59 ST</td>\n",
       "      <td>06/26/2021</td>\n",
       "      <td>7593116</td>\n",
       "      <td>2021-06-26 20:00:00</td>\n",
       "      <td>2021-06-26 16:00:00</td>\n",
       "      <td>7592992.0</td>\n",
       "      <td>124.0</td>\n",
       "    </tr>\n",
       "  </tbody>\n",
       "</table>\n",
       "</div>"
      ],
      "text/plain": [
       "    C/A  UNIT       SCP STATION        DATE  ENTRIES           date_time  \\\n",
       "1  A002  R051  02-00-00   59 ST  06/26/2021  7592804 2021-06-26 04:00:00   \n",
       "2  A002  R051  02-00-00   59 ST  06/26/2021  7592816 2021-06-26 08:00:00   \n",
       "3  A002  R051  02-00-00   59 ST  06/26/2021  7592870 2021-06-26 12:00:00   \n",
       "4  A002  R051  02-00-00   59 ST  06/26/2021  7592992 2021-06-26 16:00:00   \n",
       "5  A002  R051  02-00-00   59 ST  06/26/2021  7593116 2021-06-26 20:00:00   \n",
       "\n",
       "       PREV_DATE_TIME  PREV_ENTRIES  DAILY_ENTRIES  \n",
       "1 2021-06-26 00:00:00     7592792.0           12.0  \n",
       "2 2021-06-26 04:00:00     7592804.0           12.0  \n",
       "3 2021-06-26 08:00:00     7592816.0           54.0  \n",
       "4 2021-06-26 12:00:00     7592870.0          122.0  \n",
       "5 2021-06-26 16:00:00     7592992.0          124.0  "
      ]
     },
     "execution_count": 218,
     "metadata": {},
     "output_type": "execute_result"
    }
   ],
   "source": [
    "df.head()"
   ]
  },
  {
   "cell_type": "markdown",
   "id": "80490e1d",
   "metadata": {},
   "source": [
    "    -Convert DATE column data type to datetime :"
   ]
  },
  {
   "cell_type": "code",
   "execution_count": 219,
   "id": "2bc1ddd1",
   "metadata": {},
   "outputs": [],
   "source": [
    "df[\"DATE\"]=pd.to_datetime(df[\"DATE\"])"
   ]
  },
  {
   "cell_type": "markdown",
   "id": "cc74ebf0",
   "metadata": {},
   "source": [
    "    -Create new column for store week day based on date :"
   ]
  },
  {
   "cell_type": "code",
   "execution_count": 220,
   "id": "51d5275b",
   "metadata": {},
   "outputs": [],
   "source": [
    "df['WEEK_DAY'] = df['DATE'].dt.day_name()"
   ]
  },
  {
   "cell_type": "markdown",
   "id": "07584158",
   "metadata": {},
   "source": [
    "    -Take a sample from df :"
   ]
  },
  {
   "cell_type": "code",
   "execution_count": 221,
   "id": "778aa098",
   "metadata": {},
   "outputs": [
    {
     "data": {
      "text/html": [
       "<div>\n",
       "<style scoped>\n",
       "    .dataframe tbody tr th:only-of-type {\n",
       "        vertical-align: middle;\n",
       "    }\n",
       "\n",
       "    .dataframe tbody tr th {\n",
       "        vertical-align: top;\n",
       "    }\n",
       "\n",
       "    .dataframe thead th {\n",
       "        text-align: right;\n",
       "    }\n",
       "</style>\n",
       "<table border=\"1\" class=\"dataframe\">\n",
       "  <thead>\n",
       "    <tr style=\"text-align: right;\">\n",
       "      <th></th>\n",
       "      <th>C/A</th>\n",
       "      <th>UNIT</th>\n",
       "      <th>SCP</th>\n",
       "      <th>STATION</th>\n",
       "      <th>DATE</th>\n",
       "      <th>ENTRIES</th>\n",
       "      <th>date_time</th>\n",
       "      <th>PREV_DATE_TIME</th>\n",
       "      <th>PREV_ENTRIES</th>\n",
       "      <th>DAILY_ENTRIES</th>\n",
       "      <th>WEEK_DAY</th>\n",
       "    </tr>\n",
       "  </thead>\n",
       "  <tbody>\n",
       "    <tr>\n",
       "      <th>2705527</th>\n",
       "      <td>R524</td>\n",
       "      <td>R347</td>\n",
       "      <td>00-03-01</td>\n",
       "      <td>69 ST</td>\n",
       "      <td>2021-09-24</td>\n",
       "      <td>1615778</td>\n",
       "      <td>2021-09-24 05:00:00</td>\n",
       "      <td>2021-09-24 01:00:00</td>\n",
       "      <td>1615772.0</td>\n",
       "      <td>6.0</td>\n",
       "      <td>Friday</td>\n",
       "    </tr>\n",
       "  </tbody>\n",
       "</table>\n",
       "</div>"
      ],
      "text/plain": [
       "          C/A  UNIT       SCP STATION       DATE  ENTRIES           date_time  \\\n",
       "2705527  R524  R347  00-03-01   69 ST 2021-09-24  1615778 2021-09-24 05:00:00   \n",
       "\n",
       "             PREV_DATE_TIME  PREV_ENTRIES  DAILY_ENTRIES WEEK_DAY  \n",
       "2705527 2021-09-24 01:00:00     1615772.0            6.0   Friday  "
      ]
     },
     "execution_count": 221,
     "metadata": {},
     "output_type": "execute_result"
    }
   ],
   "source": [
    "df.sample()"
   ]
  },
  {
   "cell_type": "markdown",
   "id": "16836244",
   "metadata": {},
   "source": [
    "    -Group by station and week day then sum daily entries :"
   ]
  },
  {
   "cell_type": "code",
   "execution_count": 325,
   "id": "7dbb2b92",
   "metadata": {},
   "outputs": [],
   "source": [
    "df_Week_day=df.groupby([\"STATION\", \"WEEK_DAY\"])[['DAILY_ENTRIES']].sum().reset_index()"
   ]
  },
  {
   "cell_type": "markdown",
   "id": "1fd56584",
   "metadata": {},
   "source": [
    "    -Create mask to 3 top station :"
   ]
  },
  {
   "cell_type": "code",
   "execution_count": 240,
   "id": "d85c2542",
   "metadata": {},
   "outputs": [],
   "source": [
    "mask_week_day=df_Week_day[(df_Week_day['STATION']==\"34 ST-PENN STA\")| (df_Week_day['STATION']==\"34 ST-HERALD SQ\") | (df_Week_day['STATION']==\"JOURNAL SQUARE\")]"
   ]
  },
  {
   "cell_type": "markdown",
   "id": "b67d3364",
   "metadata": {},
   "source": [
    "    -To order the days in mask_week_day data frame :"
   ]
  },
  {
   "cell_type": "code",
   "execution_count": 241,
   "id": "fe44b92e",
   "metadata": {},
   "outputs": [
    {
     "name": "stderr",
     "output_type": "stream",
     "text": [
      "<ipython-input-241-94ab672bb828>:2: SettingWithCopyWarning: \n",
      "A value is trying to be set on a copy of a slice from a DataFrame.\n",
      "Try using .loc[row_indexer,col_indexer] = value instead\n",
      "\n",
      "See the caveats in the documentation: https://pandas.pydata.org/pandas-docs/stable/user_guide/indexing.html#returning-a-view-versus-a-copy\n",
      "  mask_week_day['WEEK_DAY']=pd.Categorical(mask_week_day['WEEK_DAY'],categories=days_order,ordered=True)\n"
     ]
    },
    {
     "data": {
      "text/html": [
       "<div>\n",
       "<style scoped>\n",
       "    .dataframe tbody tr th:only-of-type {\n",
       "        vertical-align: middle;\n",
       "    }\n",
       "\n",
       "    .dataframe tbody tr th {\n",
       "        vertical-align: top;\n",
       "    }\n",
       "\n",
       "    .dataframe thead th {\n",
       "        text-align: right;\n",
       "    }\n",
       "</style>\n",
       "<table border=\"1\" class=\"dataframe\">\n",
       "  <thead>\n",
       "    <tr style=\"text-align: right;\">\n",
       "      <th></th>\n",
       "      <th>STATION</th>\n",
       "      <th>WEEK_DAY</th>\n",
       "      <th>DAILY_ENTRIES</th>\n",
       "    </tr>\n",
       "  </thead>\n",
       "  <tbody>\n",
       "    <tr>\n",
       "      <th>0</th>\n",
       "      <td>34 ST-HERALD SQ</td>\n",
       "      <td>Friday</td>\n",
       "      <td>538558.0</td>\n",
       "    </tr>\n",
       "    <tr>\n",
       "      <th>1</th>\n",
       "      <td>34 ST-HERALD SQ</td>\n",
       "      <td>Monday</td>\n",
       "      <td>486301.0</td>\n",
       "    </tr>\n",
       "    <tr>\n",
       "      <th>2</th>\n",
       "      <td>34 ST-HERALD SQ</td>\n",
       "      <td>Saturday</td>\n",
       "      <td>390556.0</td>\n",
       "    </tr>\n",
       "    <tr>\n",
       "      <th>3</th>\n",
       "      <td>34 ST-HERALD SQ</td>\n",
       "      <td>Sunday</td>\n",
       "      <td>327389.0</td>\n",
       "    </tr>\n",
       "    <tr>\n",
       "      <th>4</th>\n",
       "      <td>34 ST-HERALD SQ</td>\n",
       "      <td>Thursday</td>\n",
       "      <td>533735.0</td>\n",
       "    </tr>\n",
       "    <tr>\n",
       "      <th>5</th>\n",
       "      <td>34 ST-HERALD SQ</td>\n",
       "      <td>Tuesday</td>\n",
       "      <td>542319.0</td>\n",
       "    </tr>\n",
       "    <tr>\n",
       "      <th>6</th>\n",
       "      <td>34 ST-HERALD SQ</td>\n",
       "      <td>Wednesday</td>\n",
       "      <td>547413.0</td>\n",
       "    </tr>\n",
       "    <tr>\n",
       "      <th>7</th>\n",
       "      <td>34 ST-PENN STA</td>\n",
       "      <td>Friday</td>\n",
       "      <td>691233.0</td>\n",
       "    </tr>\n",
       "    <tr>\n",
       "      <th>8</th>\n",
       "      <td>34 ST-PENN STA</td>\n",
       "      <td>Monday</td>\n",
       "      <td>665756.0</td>\n",
       "    </tr>\n",
       "    <tr>\n",
       "      <th>9</th>\n",
       "      <td>34 ST-PENN STA</td>\n",
       "      <td>Saturday</td>\n",
       "      <td>470473.0</td>\n",
       "    </tr>\n",
       "    <tr>\n",
       "      <th>10</th>\n",
       "      <td>34 ST-PENN STA</td>\n",
       "      <td>Sunday</td>\n",
       "      <td>418730.0</td>\n",
       "    </tr>\n",
       "    <tr>\n",
       "      <th>11</th>\n",
       "      <td>34 ST-PENN STA</td>\n",
       "      <td>Thursday</td>\n",
       "      <td>698512.0</td>\n",
       "    </tr>\n",
       "    <tr>\n",
       "      <th>12</th>\n",
       "      <td>34 ST-PENN STA</td>\n",
       "      <td>Tuesday</td>\n",
       "      <td>807374.0</td>\n",
       "    </tr>\n",
       "    <tr>\n",
       "      <th>13</th>\n",
       "      <td>34 ST-PENN STA</td>\n",
       "      <td>Wednesday</td>\n",
       "      <td>725037.0</td>\n",
       "    </tr>\n",
       "    <tr>\n",
       "      <th>14</th>\n",
       "      <td>JOURNAL SQUARE</td>\n",
       "      <td>Friday</td>\n",
       "      <td>408660.0</td>\n",
       "    </tr>\n",
       "    <tr>\n",
       "      <th>15</th>\n",
       "      <td>JOURNAL SQUARE</td>\n",
       "      <td>Monday</td>\n",
       "      <td>539723.0</td>\n",
       "    </tr>\n",
       "    <tr>\n",
       "      <th>16</th>\n",
       "      <td>JOURNAL SQUARE</td>\n",
       "      <td>Saturday</td>\n",
       "      <td>403218.0</td>\n",
       "    </tr>\n",
       "    <tr>\n",
       "      <th>17</th>\n",
       "      <td>JOURNAL SQUARE</td>\n",
       "      <td>Sunday</td>\n",
       "      <td>99835.0</td>\n",
       "    </tr>\n",
       "    <tr>\n",
       "      <th>18</th>\n",
       "      <td>JOURNAL SQUARE</td>\n",
       "      <td>Thursday</td>\n",
       "      <td>554358.0</td>\n",
       "    </tr>\n",
       "    <tr>\n",
       "      <th>19</th>\n",
       "      <td>JOURNAL SQUARE</td>\n",
       "      <td>Tuesday</td>\n",
       "      <td>495072.0</td>\n",
       "    </tr>\n",
       "    <tr>\n",
       "      <th>20</th>\n",
       "      <td>JOURNAL SQUARE</td>\n",
       "      <td>Wednesday</td>\n",
       "      <td>833888.0</td>\n",
       "    </tr>\n",
       "  </tbody>\n",
       "</table>\n",
       "</div>"
      ],
      "text/plain": [
       "            STATION   WEEK_DAY  DAILY_ENTRIES\n",
       "0   34 ST-HERALD SQ     Friday       538558.0\n",
       "1   34 ST-HERALD SQ     Monday       486301.0\n",
       "2   34 ST-HERALD SQ   Saturday       390556.0\n",
       "3   34 ST-HERALD SQ     Sunday       327389.0\n",
       "4   34 ST-HERALD SQ   Thursday       533735.0\n",
       "5   34 ST-HERALD SQ    Tuesday       542319.0\n",
       "6   34 ST-HERALD SQ  Wednesday       547413.0\n",
       "7    34 ST-PENN STA     Friday       691233.0\n",
       "8    34 ST-PENN STA     Monday       665756.0\n",
       "9    34 ST-PENN STA   Saturday       470473.0\n",
       "10   34 ST-PENN STA     Sunday       418730.0\n",
       "11   34 ST-PENN STA   Thursday       698512.0\n",
       "12   34 ST-PENN STA    Tuesday       807374.0\n",
       "13   34 ST-PENN STA  Wednesday       725037.0\n",
       "14   JOURNAL SQUARE     Friday       408660.0\n",
       "15   JOURNAL SQUARE     Monday       539723.0\n",
       "16   JOURNAL SQUARE   Saturday       403218.0\n",
       "17   JOURNAL SQUARE     Sunday        99835.0\n",
       "18   JOURNAL SQUARE   Thursday       554358.0\n",
       "19   JOURNAL SQUARE    Tuesday       495072.0\n",
       "20   JOURNAL SQUARE  Wednesday       833888.0"
      ]
     },
     "execution_count": 241,
     "metadata": {},
     "output_type": "execute_result"
    }
   ],
   "source": [
    "days_order=['Saturday','Sunday','Monday','Tuesday','Wednesday','Thursday','Friday']\n",
    "mask_week_day['WEEK_DAY']=pd.Categorical(mask_week_day['WEEK_DAY'],categories=days_order,ordered=True)\n",
    "mask_week_day=mask_week_day.reset_index(drop=True)\n",
    "mask_week_day"
   ]
  },
  {
   "cell_type": "markdown",
   "id": "b4b7c0bb",
   "metadata": {},
   "source": [
    "    -Group by station & date then sum the daily entries for each one :"
   ]
  },
  {
   "cell_type": "code",
   "execution_count": 242,
   "id": "76afbca9",
   "metadata": {},
   "outputs": [
    {
     "data": {
      "text/html": [
       "<div>\n",
       "<style scoped>\n",
       "    .dataframe tbody tr th:only-of-type {\n",
       "        vertical-align: middle;\n",
       "    }\n",
       "\n",
       "    .dataframe tbody tr th {\n",
       "        vertical-align: top;\n",
       "    }\n",
       "\n",
       "    .dataframe thead th {\n",
       "        text-align: right;\n",
       "    }\n",
       "</style>\n",
       "<table border=\"1\" class=\"dataframe\">\n",
       "  <thead>\n",
       "    <tr style=\"text-align: right;\">\n",
       "      <th></th>\n",
       "      <th>STATION</th>\n",
       "      <th>DATE</th>\n",
       "      <th>DAILY_ENTRIES</th>\n",
       "    </tr>\n",
       "  </thead>\n",
       "  <tbody>\n",
       "    <tr>\n",
       "      <th>0</th>\n",
       "      <td>1 AV</td>\n",
       "      <td>2021-06-26</td>\n",
       "      <td>5937.0</td>\n",
       "    </tr>\n",
       "    <tr>\n",
       "      <th>1</th>\n",
       "      <td>1 AV</td>\n",
       "      <td>2021-06-27</td>\n",
       "      <td>6835.0</td>\n",
       "    </tr>\n",
       "    <tr>\n",
       "      <th>2</th>\n",
       "      <td>1 AV</td>\n",
       "      <td>2021-06-28</td>\n",
       "      <td>7529.0</td>\n",
       "    </tr>\n",
       "    <tr>\n",
       "      <th>3</th>\n",
       "      <td>1 AV</td>\n",
       "      <td>2021-06-29</td>\n",
       "      <td>7231.0</td>\n",
       "    </tr>\n",
       "    <tr>\n",
       "      <th>4</th>\n",
       "      <td>1 AV</td>\n",
       "      <td>2021-06-30</td>\n",
       "      <td>7588.0</td>\n",
       "    </tr>\n",
       "  </tbody>\n",
       "</table>\n",
       "</div>"
      ],
      "text/plain": [
       "  STATION       DATE  DAILY_ENTRIES\n",
       "0    1 AV 2021-06-26         5937.0\n",
       "1    1 AV 2021-06-27         6835.0\n",
       "2    1 AV 2021-06-28         7529.0\n",
       "3    1 AV 2021-06-29         7231.0\n",
       "4    1 AV 2021-06-30         7588.0"
      ]
     },
     "execution_count": 242,
     "metadata": {},
     "output_type": "execute_result"
    }
   ],
   "source": [
    "station_daily = df.groupby([\"STATION\", \"DATE\"])[['DAILY_ENTRIES']].sum().reset_index()\n",
    "station_daily.head()"
   ]
  },
  {
   "cell_type": "markdown",
   "id": "a5ce1b4f",
   "metadata": {},
   "source": [
    "    -Group by station then sum the daily entries for each one :"
   ]
  },
  {
   "cell_type": "code",
   "execution_count": 243,
   "id": "a4e1dd62",
   "metadata": {},
   "outputs": [
    {
     "data": {
      "text/html": [
       "<div>\n",
       "<style scoped>\n",
       "    .dataframe tbody tr th:only-of-type {\n",
       "        vertical-align: middle;\n",
       "    }\n",
       "\n",
       "    .dataframe tbody tr th {\n",
       "        vertical-align: top;\n",
       "    }\n",
       "\n",
       "    .dataframe thead th {\n",
       "        text-align: right;\n",
       "    }\n",
       "</style>\n",
       "<table border=\"1\" class=\"dataframe\">\n",
       "  <thead>\n",
       "    <tr style=\"text-align: right;\">\n",
       "      <th></th>\n",
       "      <th>STATION</th>\n",
       "      <th>DAILY_ENTRIES</th>\n",
       "    </tr>\n",
       "  </thead>\n",
       "  <tbody>\n",
       "    <tr>\n",
       "      <th>0</th>\n",
       "      <td>34 ST-PENN STA</td>\n",
       "      <td>4477115.0</td>\n",
       "    </tr>\n",
       "    <tr>\n",
       "      <th>1</th>\n",
       "      <td>34 ST-HERALD SQ</td>\n",
       "      <td>3366271.0</td>\n",
       "    </tr>\n",
       "    <tr>\n",
       "      <th>2</th>\n",
       "      <td>JOURNAL SQUARE</td>\n",
       "      <td>3334754.0</td>\n",
       "    </tr>\n",
       "    <tr>\n",
       "      <th>3</th>\n",
       "      <td>GRD CNTRL-42 ST</td>\n",
       "      <td>3158668.0</td>\n",
       "    </tr>\n",
       "    <tr>\n",
       "      <th>4</th>\n",
       "      <td>42 ST-PORT AUTH</td>\n",
       "      <td>3037847.0</td>\n",
       "    </tr>\n",
       "  </tbody>\n",
       "</table>\n",
       "</div>"
      ],
      "text/plain": [
       "           STATION  DAILY_ENTRIES\n",
       "0   34 ST-PENN STA      4477115.0\n",
       "1  34 ST-HERALD SQ      3366271.0\n",
       "2   JOURNAL SQUARE      3334754.0\n",
       "3  GRD CNTRL-42 ST      3158668.0\n",
       "4  42 ST-PORT AUTH      3037847.0"
      ]
     },
     "execution_count": 243,
     "metadata": {},
     "output_type": "execute_result"
    }
   ],
   "source": [
    "station_totals = station_daily.groupby('STATION').sum()\\\n",
    "    .sort_values('DAILY_ENTRIES', ascending=False)\\\n",
    "    .reset_index()\n",
    "\n",
    "station_totals.head()"
   ]
  },
  {
   "cell_type": "markdown",
   "id": "fa669cd1",
   "metadata": {},
   "source": [
    "    -Extract top 3 most frequented stations from station_totals dataframe :"
   ]
  },
  {
   "cell_type": "code",
   "execution_count": 244,
   "id": "e2cb858a",
   "metadata": {},
   "outputs": [
    {
     "data": {
      "text/html": [
       "<div>\n",
       "<style scoped>\n",
       "    .dataframe tbody tr th:only-of-type {\n",
       "        vertical-align: middle;\n",
       "    }\n",
       "\n",
       "    .dataframe tbody tr th {\n",
       "        vertical-align: top;\n",
       "    }\n",
       "\n",
       "    .dataframe thead th {\n",
       "        text-align: right;\n",
       "    }\n",
       "</style>\n",
       "<table border=\"1\" class=\"dataframe\">\n",
       "  <thead>\n",
       "    <tr style=\"text-align: right;\">\n",
       "      <th></th>\n",
       "      <th>STATION</th>\n",
       "      <th>DAILY_ENTRIES</th>\n",
       "    </tr>\n",
       "  </thead>\n",
       "  <tbody>\n",
       "    <tr>\n",
       "      <th>0</th>\n",
       "      <td>34 ST-PENN STA</td>\n",
       "      <td>4477115.0</td>\n",
       "    </tr>\n",
       "    <tr>\n",
       "      <th>1</th>\n",
       "      <td>34 ST-HERALD SQ</td>\n",
       "      <td>3366271.0</td>\n",
       "    </tr>\n",
       "    <tr>\n",
       "      <th>2</th>\n",
       "      <td>JOURNAL SQUARE</td>\n",
       "      <td>3334754.0</td>\n",
       "    </tr>\n",
       "  </tbody>\n",
       "</table>\n",
       "</div>"
      ],
      "text/plain": [
       "           STATION  DAILY_ENTRIES\n",
       "0   34 ST-PENN STA      4477115.0\n",
       "1  34 ST-HERALD SQ      3366271.0\n",
       "2   JOURNAL SQUARE      3334754.0"
      ]
     },
     "execution_count": 244,
     "metadata": {},
     "output_type": "execute_result"
    }
   ],
   "source": [
    "three_Top_stations=station_totals.head(3)\n",
    "three_Top_stations"
   ]
  },
  {
   "cell_type": "markdown",
   "id": "ac810027",
   "metadata": {},
   "source": [
    "    -Visualization :"
   ]
  },
  {
   "cell_type": "code",
   "execution_count": 245,
   "id": "4ddfa4d0",
   "metadata": {},
   "outputs": [],
   "source": [
    "%matplotlib inline\n",
    "import matplotlib.pyplot as plt\n",
    "import seaborn as sns"
   ]
  },
  {
   "cell_type": "markdown",
   "id": "1ce8f0eb",
   "metadata": {},
   "source": [
    "    -Plotting the Busiest 3 MTA Stations from 03/7/2021 to 02/10/2021 :"
   ]
  },
  {
   "cell_type": "code",
   "execution_count": 361,
   "id": "74aa6cdd",
   "metadata": {},
   "outputs": [
    {
     "data": {
      "image/png": "[encoded data removed]",
      "text/plain": [
       "<Figure size 648x288 with 1 Axes>"
      ]
     },
     "metadata": {},
     "output_type": "display_data"
    }
   ],
   "source": [
    "#Plot using seaborn and matplotlib\n",
    "plt.figure(figsize=[9,4])\n",
    "sns.set() \n",
    "sns.set_style(\"white\")\n",
    "ax = sns.barplot(data=three_Top_stations,x='DAILY_ENTRIES',y='STATION',palette='Blues_r')\n",
    "plt.xlabel('Total Entries',weight='bold',fontsize=15)\n",
    "plt.ylabel('Stations',weight='bold',fontsize=15)\n",
    "plt.xticks(range(0,5477115,1000000),[str(float(i/1000))+'k' for i in range(0,5477115,1000000)])\n",
    "plt.title('Busiest 3 MTA Stations within 3 months', weight='bold',fontsize='15',loc='CENTER')\n",
    "for p in ax.patches:\n",
    "        ax.annotate(str(float(p.get_width()/1000))+'k', (p.get_width(), p.get_y()+0.5))\n",
    "sns.despine()\n",
    "\n",
    "#To save the plot\n",
    "plt.savefig('barplot_Busiest.png',transparent=True, bbox_inches='tight')"
   ]
  },
  {
   "cell_type": "markdown",
   "id": "7fc5ab3a",
   "metadata": {},
   "source": [
    "    -Plotting the top 3 stations across the week from 03/7/2021 to 02/10/2021 :"
   ]
  },
  {
   "cell_type": "markdown",
   "id": "6af1e9cd",
   "metadata": {},
   "source": [
    "* Plot 1 (Bar chart) :"
   ]
  },
  {
   "cell_type": "markdown",
   "id": "d9a09da2",
   "metadata": {},
   "source": [
    "    -Plot for 34 ST-PENN STA station :"
   ]
  },
  {
   "cell_type": "code",
   "execution_count": 341,
   "id": "0cc6fa95",
   "metadata": {},
   "outputs": [
    {
     "data": {
      "image/png": "[encoded data removed]",
      "text/plain": [
       "<Figure size 576x360 with 1 Axes>"
      ]
     },
     "metadata": {
      "needs_background": "light"
     },
     "output_type": "display_data"
    }
   ],
   "source": [
    "plt.figure(figsize=[8,5])\n",
    "ax = sns.barplot(data=mask_week_day[7:14],x='DAILY_ENTRIES',y='WEEK_DAY',palette='rainbow')\n",
    "plt.xlabel('Total entries',weight='bold',fontsize=15)\n",
    "plt.ylabel('Days of the Week',weight='bold',fontsize=15)\n",
    "plt.xticks(range(0,807374,100000),[str(float(i/1000))+'k' for i in range(0,807374,100000)])\n",
    "plt.title('34 ST-PENN STA', weight='bold',fontsize='15')\n",
    "for p in ax.patches:\n",
    "        ax.annotate(str(float(p.get_width()/1000))+'k', (p.get_width(), p.get_y()+0.5))\n",
    "sns.despine()\n",
    "\n",
    "#To save the plot\n",
    "plt.savefig('barplot2.png',transparent=True, bbox_inches='tight')"
   ]
  },
  {
   "cell_type": "markdown",
   "id": "825e9372",
   "metadata": {},
   "source": [
    "    -Plot for 34 ST-HERALD SQ station :"
   ]
  },
  {
   "cell_type": "code",
   "execution_count": 337,
   "id": "84e4538a",
   "metadata": {},
   "outputs": [
    {
     "data": {
      "image/png": "[encoded data removed]",
      "text/plain": [
       "<Figure size 576x360 with 1 Axes>"
      ]
     },
     "metadata": {
      "needs_background": "light"
     },
     "output_type": "display_data"
    }
   ],
   "source": [
    "plt.figure(figsize=[8,5])\n",
    "ax = sns.barplot(data=mask_week_day[:7],x='DAILY_ENTRIES',y='WEEK_DAY',palette='rainbow')\n",
    "plt.xlabel('Total entries',weight='bold',fontsize=15)\n",
    "plt.ylabel('Days of the Week',weight='bold',fontsize=15)\n",
    "plt.xticks(range(0,807374,100000),[str(float(i/1000))+'k' for i in range(0,807374,100000)])\n",
    "plt.title('34 ST-HERALD SQ', weight='bold',fontsize='15')\n",
    "for p in ax.patches:\n",
    "        ax.annotate(str(float(p.get_width()/1000))+'k', (p.get_width(), p.get_y()+0.5))\n",
    "sns.despine()\n",
    "\n",
    "#To save the plot\n",
    "plt.savefig('barplot2.png',transparent=True, bbox_inches='tight')"
   ]
  },
  {
   "cell_type": "markdown",
   "id": "9e741b20",
   "metadata": {},
   "source": [
    "    -Plot for JOURNAL SQUARE station :"
   ]
  },
  {
   "cell_type": "code",
   "execution_count": 335,
   "id": "7c56f19a",
   "metadata": {},
   "outputs": [
    {
     "data": {
      "image/png": "[encoded data removed]",
      "text/plain": [
       "<Figure size 576x360 with 1 Axes>"
      ]
     },
     "metadata": {
      "needs_background": "light"
     },
     "output_type": "display_data"
    }
   ],
   "source": [
    "plt.figure(figsize=[8,5])\n",
    "ax = sns.barplot(data=mask_week_day[14:],x='DAILY_ENTRIES',y='WEEK_DAY',palette='rainbow')\n",
    "plt.xlabel('Total entries',weight='bold',fontsize=15)\n",
    "plt.ylabel('Days of the Week',weight='bold',fontsize=15)\n",
    "plt.xticks(range(0,807374,100000),[str(float(i/1000))+'k' for i in range(0,807374,100000)])\n",
    "plt.title('JOURNAL SQUARE', weight='bold',fontsize='15')\n",
    "for p in ax.patches:\n",
    "        ax.annotate(str(float(p.get_width()/1000))+'k', (p.get_width(), p.get_y()+0.5))\n",
    "sns.despine()\n",
    "\n",
    "#To save the plot\n",
    "plt.savefig('barplot2.png',transparent=True, bbox_inches='tight')"
   ]
  },
  {
   "cell_type": "markdown",
   "id": "46e752c1",
   "metadata": {},
   "source": [
    "* Plot 2 (Heatmap) for all top 3 stations :"
   ]
  },
  {
   "cell_type": "code",
   "execution_count": 362,
   "id": "f88db55d",
   "metadata": {},
   "outputs": [
    {
     "data": {
      "image/png": "[encoded data removed]",
      "text/plain": [
       "<Figure size 648x432 with 2 Axes>"
      ]
     },
     "metadata": {},
     "output_type": "display_data"
    }
   ],
   "source": [
    "stations_order=['34 ST-PENN STA','34 ST-HERALD SQ','JOURNAL SQUARE']\n",
    "Stations_Entries_Week = mask_week_day.pivot(\"STATION\", \"WEEK_DAY\", \"DAILY_ENTRIES\").reindex(days_order, axis=1).reindex(stations_order, axis=0)\n",
    "\n",
    "# Draw a heatmap with the numeric values in each cell\n",
    "array = np.array(Stations_Entries_Week.applymap(lambda x:str(round(x/1000,1))+'k'))\n",
    "sns.set() \n",
    "sns.set_style(\"white\")\n",
    "f, ax = plt.subplots(figsize=(9, 6))\n",
    "sns.heatmap(Stations_Entries_Week, annot=array, linewidths=1, ax=ax,cmap=\"Blues\",fmt='',linecolor='white')\n",
    "plt.yticks(rotation=0) \n",
    "plt.xlabel('Days of the Week',fontsize=15)\n",
    "plt.ylabel('Top 3 Stations',fontsize=15)   \n",
    "plt.title('Total entries on Week days',weight='bold',fontsize=15)\n",
    "plt.savefig('heatmap.png',transparent=True, bbox_inches='tight')"
   ]
  },
  {
   "cell_type": "markdown",
   "id": "4064f767",
   "metadata": {},
   "source": [
    "## 4.Communicate results"
   ]
  },
  {
   "cell_type": "markdown",
   "id": "96f7eed3",
   "metadata": {},
   "source": [
    "1-The outcome is depicted in bar chart, where the bar chart displays the names of stations on the vertical axis and the number of entries within three months at these stations on the horizontal axis. Which displays the busiest 3 stations. This result after doing EDA on MTA data indicates that 24 ST-PENN STA is the most frequented station, followed by 34 ST-HERALD SQ, and then JOURNAL SQUARE. I recommend Moburst Advertising to place their billboards in these three stations."
   ]
  },
  {
   "cell_type": "markdown",
   "id": "1dcfe32a",
   "metadata": {},
   "source": [
    "2-In the heat map shows the total entries for each day of the week at the top three busiest stations.That will be useful for Moburst advertising company to determining the price of the advertisements based on the result on  a heat map."
   ]
  }
 ],
 "metadata": {
  "kernelspec": {
   "display_name": "Python 3",
   "language": "python",
   "name": "python3"
  },
  "language_info": {
   "codemirror_mode": {
    "name": "ipython",
    "version": 3
   },
   "file_extension": ".py",
   "mimetype": "text/x-python",
   "name": "python",
   "nbconvert_exporter": "python",
   "pygments_lexer": "ipython3",
   "version": "3.8.8"
  }
 },
 "nbformat": 4,
 "nbformat_minor": 5
}
